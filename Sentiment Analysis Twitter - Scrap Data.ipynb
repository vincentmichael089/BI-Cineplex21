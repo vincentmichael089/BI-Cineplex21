{
 "cells": [
  {
   "cell_type": "code",
   "execution_count": 1,
   "metadata": {},
   "outputs": [],
   "source": [
    "import sys, tweepy\n",
    "import textblob\n",
    "import matplotlib.pyplot as plt\n",
    "import config\n",
    "import pandas as pd"
   ]
  },
  {
   "cell_type": "code",
   "execution_count": 2,
   "metadata": {},
   "outputs": [
    {
     "name": "stdout",
     "output_type": "stream",
     "text": [
      "valid auth\n"
     ]
    }
   ],
   "source": [
    "#manage api\n",
    "consumerKey = config.consumerKey\n",
    "consumerSecret = config.consumerSecret\n",
    "accessToken = config.accessToken\n",
    "accessTokenSecret = config.accessTokenSecret\n",
    "\n",
    "auth = tweepy.OAuthHandler(consumerKey, consumerSecret)\n",
    "auth.set_access_token(accessToken, accessTokenSecret)\n",
    "api = tweepy.API(auth)\n",
    "\n",
    "if(api.verify_credentials()!=False):\n",
    "    print(\"valid auth\")"
   ]
  },
  {
   "cell_type": "code",
   "execution_count": 3,
   "metadata": {},
   "outputs": [],
   "source": [
    "#define some function\n",
    "def percent(part, total):\n",
    "    return 100*float(part)/float(total)"
   ]
  },
  {
   "cell_type": "code",
   "execution_count": 4,
   "metadata": {},
   "outputs": [
    {
     "name": "stdout",
     "output_type": "stream",
     "text": [
      "Please input keyword: thanos\n",
      "Number of tweets: 1000\n"
     ]
    }
   ],
   "source": [
    "#input keyword and desired number of tweets , prepare csv\n",
    "keyword = str(input(\"Please input keyword: \"))\n",
    "number = int(input(\"Number of tweets: \"))\n"
   ]
  },
  {
   "cell_type": "code",
   "execution_count": 6,
   "metadata": {},
   "outputs": [
    {
     "name": "stdout",
     "output_type": "stream",
     "text": [
      "<class 'pandas.core.frame.DataFrame'>\n",
      "RangeIndex: 1000 entries, 0 to 999\n",
      "Data columns (total 2 columns):\n",
      "Timestamp    1000 non-null datetime64[ns]\n",
      "Tweet        1000 non-null object\n",
      "dtypes: datetime64[ns](1), object(1)\n",
      "memory usage: 15.7+ KB\n"
     ]
    }
   ],
   "source": [
    "#prepare data for dataframe, sentiment percentage with textblob\n",
    "positive = 0\n",
    "negative = 0\n",
    "neutral = 0\n",
    "polarity = 0\n",
    "timestamp,text=[],[]\n",
    "\n",
    "tweets = tweepy.Cursor(api.search, q=keyword, rpp=100, result_type=\"recent\", include_entities=True, lang=\"en\").items(number)\n",
    "for tweet in tweets:\n",
    "    #print(tweet.text)\n",
    "    timestamp.append(tweet.created_at)\n",
    "    text.append(tweet.text)\n",
    "    \n",
    "    analysis = textblob.TextBlob(tweet.text)\n",
    "    polarity += analysis.sentiment.polarity\n",
    "    \n",
    "    if(analysis.sentiment.polarity==0):\n",
    "        neutral +=1\n",
    "    elif(analysis.sentiment.polarity<0.0000):\n",
    "        negative +=1\n",
    "    elif(analysis.sentiment.polarity>0.0000):\n",
    "        positive +=1\n",
    "\n",
    "df=pd.DataFrame({'Timestamp':timestamp,\n",
    "                'Tweet':text,\n",
    "                })\n",
    "df.info()\n",
    "df.to_csv(\"raw_data.csv\")"
   ]
  },
  {
   "cell_type": "code",
   "execution_count": 7,
   "metadata": {},
   "outputs": [
    {
     "name": "stdout",
     "output_type": "stream",
     "text": [
      "341 207 452 46.190924873737394\n"
     ]
    },
    {
     "data": {
      "text/plain": [
       "<function matplotlib.pyplot.show(*args, **kw)>"
      ]
     },
     "execution_count": 7,
     "metadata": {},
     "output_type": "execute_result"
    },
    {
     "data": {
      "image/png": "[encoded data removed]",
      "text/plain": [
       "<Figure size 432x288 with 1 Axes>"
      ]
     },
     "metadata": {},
     "output_type": "display_data"
    }
   ],
   "source": [
    "#show graph with textblob        \n",
    "print(positive, negative, neutral, polarity)\n",
    "\n",
    "perPositive = format(percent(positive, int(df.shape[0])),'02f')\n",
    "perNegative = format(percent(negative, int(df.shape[0])),'02f')\n",
    "perNeutral = format(percent(neutral, int(df.shape[0])),'02f')\n",
    "\n",
    "sizes = [perPositive, perNegative, perNeutral]\n",
    "labels = ['Positive [' + str(perPositive) + '%]','Negative [' + str(perNegative) + '%]','Neutral [' + str(perNeutral) + '%]']\n",
    "p, t = plt.pie(sizes, startangle=90)\n",
    "plt.title(\"Recent Sentiment Chart using TextBlob \\nfor word: \"+keyword+\" found in \"+str(int(df.shape[0]))+ \" tweets\\n\")\n",
    "plt.axis(\"equal\")\n",
    "plt.legend(p, labels,loc=\"best\")\n",
    "plt.tight_layout()\n",
    "plt.show"
   ]
  },
  {
   "cell_type": "code",
   "execution_count": null,
   "metadata": {},
   "outputs": [],
   "source": []
  }
 ],
 "metadata": {
  "kernelspec": {
   "display_name": "Python 3",
   "language": "python",
   "name": "python3"
  },
  "language_info": {
   "codemirror_mode": {
    "name": "ipython",
    "version": 3
   },
   "file_extension": ".py",
   "mimetype": "text/x-python",
   "name": "python",
   "nbconvert_exporter": "python",
   "pygments_lexer": "ipython3",
   "version": "3.6.8"
  }
 },
 "nbformat": 4,
 "nbformat_minor": 2
}
