{
 "cells": [
  {
   "cell_type": "code",
   "execution_count": 1,
   "metadata": {},
   "outputs": [],
   "source": [
    "import sys, tweepy\n",
    "import textblob\n",
    "import matplotlib.pyplot as plt\n",
    "import config\n",
    "import pandas as pd"
   ]
  },
  {
   "cell_type": "code",
   "execution_count": 2,
   "metadata": {},
   "outputs": [
    {
     "name": "stdout",
     "output_type": "stream",
     "text": [
      "valid auth\n"
     ]
    }
   ],
   "source": [
    "#manage api\n",
    "consumerKey = config.consumerKey\n",
    "consumerSecret = config.consumerSecret\n",
    "accessToken = config.accessToken\n",
    "accessTokenSecret = config.accessTokenSecret\n",
    "\n",
    "auth = tweepy.OAuthHandler(consumerKey, consumerSecret)\n",
    "auth.set_access_token(accessToken, accessTokenSecret)\n",
    "api = tweepy.API(auth)\n",
    "\n",
    "if(api.verify_credentials()!=False):\n",
    "    print(\"valid auth\")"
   ]
  },
  {
   "cell_type": "code",
   "execution_count": 3,
   "metadata": {},
   "outputs": [],
   "source": [
    "#define some function\n",
    "def percent(part, total):\n",
    "    return 100*float(part)/float(total)"
   ]
  },
  {
   "cell_type": "code",
   "execution_count": 4,
   "metadata": {},
   "outputs": [
    {
     "name": "stdout",
     "output_type": "stream",
     "text": [
      "Please input keyword: thanos\n",
      "Number of tweets: 200\n"
     ]
    }
   ],
   "source": [
    "#input keyword and desired number of tweets , prepare csv\n",
    "keyword = str(input(\"Please input keyword: \"))\n",
    "number = int(input(\"Number of tweets: \"))\n"
   ]
  },
  {
   "cell_type": "code",
   "execution_count": 13,
   "metadata": {},
   "outputs": [
    {
     "name": "stdout",
     "output_type": "stream",
     "text": [
      "<class 'pandas.core.frame.DataFrame'>\n",
      "RangeIndex: 200 entries, 0 to 199\n",
      "Data columns (total 2 columns):\n",
      "Timestamp    200 non-null datetime64[ns]\n",
      "Tweet        200 non-null object\n",
      "dtypes: datetime64[ns](1), object(1)\n",
      "memory usage: 3.2+ KB\n"
     ]
    }
   ],
   "source": [
    "#prepare data for dataframe, sentiment percentage with textblob\n",
    "positive = 0\n",
    "negative = 0\n",
    "neutral = 0\n",
    "polarity = 0\n",
    "timestamp,text=[],[]\n",
    "\n",
    "tweets = tweepy.Cursor(api.search, q=keyword, rpp=100, result_type=\"recent\", include_entities=True, lang=\"en\").items(number)\n",
    "for tweet in tweets:\n",
    "    #print(tweet.text)\n",
    "    timestamp.append(tweet.created_at)\n",
    "    text.append(tweet.text)\n",
    "    \n",
    "    analysis = textblob.TextBlob(tweet.text)\n",
    "    polarity += analysis.sentiment.polarity\n",
    "    \n",
    "    if(analysis.sentiment.polarity==0):\n",
    "        neutral +=1\n",
    "    elif(analysis.sentiment.polarity<0.0000):\n",
    "        negative +=1\n",
    "    elif(analysis.sentiment.polarity>0.0000):\n",
    "        positive +=1\n",
    "\n",
    "df=pd.DataFrame({'Timestamp':timestamp,\n",
    "                'Tweet':text,\n",
    "                })\n",
    "df.info()\n",
    "df.to_csv(\"raw_data.csv\")"
   ]
  },
  {
   "cell_type": "code",
   "execution_count": 14,
   "metadata": {},
   "outputs": [
    {
     "name": "stdout",
     "output_type": "stream",
     "text": [
      "58 54 88 -2.0058858676046167\n"
     ]
    },
    {
     "data": {
      "text/plain": [
       "<function matplotlib.pyplot.show(*args, **kw)>"
      ]
     },
     "execution_count": 14,
     "metadata": {},
     "output_type": "execute_result"
    },
    {
     "data": {
      "image/png": "[encoded data removed]",
      "text/plain": [
       "<Figure size 432x288 with 1 Axes>"
      ]
     },
     "metadata": {},
     "output_type": "display_data"
    }
   ],
   "source": [
    "#show graph with textblob        \n",
    "print(positive, negative, neutral, polarity)\n",
    "\n",
    "perPositive = format(percent(positive, number),'02f')\n",
    "perNegative = format(percent(negative, number),'02f')\n",
    "perNeutral = format(percent(neutral, number),'02f')\n",
    "\n",
    "sizes = [perPositive, perNegative, perNeutral]\n",
    "labels = ['Positive [' + str(perPositive) + '%]','Negative [' + str(perNegative) + '%]','Neutral [' + str(perNeutral) + '%]']\n",
    "p, t = plt.pie(sizes, startangle=90)\n",
    "plt.title(\"Recent Sentiment Chart using TextBlob \\nfor word: \"+keyword+\" found in \"+str(number)+ \" tweets\\n\")\n",
    "plt.axis(\"equal\")\n",
    "plt.legend(p, labels,loc=\"best\")\n",
    "plt.tight_layout()\n",
    "plt.show"
   ]
  },
  {
   "cell_type": "code",
   "execution_count": 15,
   "metadata": {},
   "outputs": [
    {
     "ename": "ModuleNotFoundError",
     "evalue": "No module named 'Sastrawi'",
     "output_type": "error",
     "traceback": [
      "\u001b[1;31m---------------------------------------------------------------------------\u001b[0m",
      "\u001b[1;31mModuleNotFoundError\u001b[0m                       Traceback (most recent call last)",
      "\u001b[1;32m<ipython-input-15-849152c4b9b4>\u001b[0m in \u001b[0;36m<module>\u001b[1;34m\u001b[0m\n\u001b[0;32m      4\u001b[0m \u001b[1;32mfrom\u001b[0m \u001b[0mnltk\u001b[0m\u001b[1;33m.\u001b[0m\u001b[0mtokenize\u001b[0m \u001b[1;32mimport\u001b[0m \u001b[0mWordPunctTokenizer\u001b[0m\u001b[1;33m\u001b[0m\u001b[1;33m\u001b[0m\u001b[0m\n\u001b[0;32m      5\u001b[0m \u001b[1;32mfrom\u001b[0m \u001b[0mnltk\u001b[0m\u001b[1;33m.\u001b[0m\u001b[0mcorpus\u001b[0m \u001b[1;32mimport\u001b[0m \u001b[0mstopwords\u001b[0m\u001b[1;33m\u001b[0m\u001b[1;33m\u001b[0m\u001b[0m\n\u001b[1;32m----> 6\u001b[1;33m \u001b[1;32mfrom\u001b[0m \u001b[0mSastrawi\u001b[0m\u001b[1;33m.\u001b[0m\u001b[0mStemmer\u001b[0m\u001b[1;33m.\u001b[0m\u001b[0mStemmerFactory\u001b[0m \u001b[1;32mimport\u001b[0m \u001b[0mStemmerFactory\u001b[0m\u001b[1;33m\u001b[0m\u001b[1;33m\u001b[0m\u001b[0m\n\u001b[0m",
      "\u001b[1;31mModuleNotFoundError\u001b[0m: No module named 'Sastrawi'"
     ]
    }
   ],
   "source": [
    "#data cleaning\n",
    "from bs4 import BeautifulSoup\n",
    "import re\n",
    "from nltk.tokenize import WordPunctTokenizer\n",
    "from nltk.corpus import stopwords\n",
    "from Sastrawi.Stemmer.StemmerFactory import StemmerFactory"
   ]
  },
  {
   "cell_type": "code",
   "execution_count": null,
   "metadata": {},
   "outputs": [],
   "source": []
  }
 ],
 "metadata": {
  "kernelspec": {
   "display_name": "Python 3",
   "language": "python",
   "name": "python3"
  },
  "language_info": {
   "codemirror_mode": {
    "name": "ipython",
    "version": 3
   },
   "file_extension": ".py",
   "mimetype": "text/x-python",
   "name": "python",
   "nbconvert_exporter": "python",
   "pygments_lexer": "ipython3",
   "version": "3.6.8"
  }
 },
 "nbformat": 4,
 "nbformat_minor": 2
}
