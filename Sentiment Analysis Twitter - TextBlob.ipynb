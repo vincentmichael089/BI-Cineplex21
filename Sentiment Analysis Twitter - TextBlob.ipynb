{
  "nbformat": 4,
  "nbformat_minor": 0,
  "metadata": {
    "colab": {
      "name": "textblob sentiment analysis.ipynb",
      "provenance": []
    },
    "kernelspec": {
      "name": "python3",
      "display_name": "Python 3"
    }
  },
  "cells": [
    {
      "cell_type": "code",
      "metadata": {
        "id": "NgFxSkJM6_Zu",
        "colab_type": "code",
        "colab": {}
      },
      "source": [
        "import sys, tweepy\n",
        "import textblob\n",
        "import re\n",
        "\n",
        "import matplotlib.pyplot as plt\n",
        "import pandas as pd\n",
        "\n",
        "import twint\n",
        "from googletrans import Translator\n",
        "\n"
      ],
      "execution_count": 0,
      "outputs": []
    },
    {
      "cell_type": "code",
      "metadata": {
        "id": "0xLMS5V39R9O",
        "colab_type": "code",
        "outputId": "26dd14d6-a49f-4a84-eb00-aaa02f86c6d3",
        "colab": {
          "base_uri": "https://localhost:8080/",
          "height": 550
        }
      },
      "source": [
        "pip install twint"
      ],
      "execution_count": 2,
      "outputs": [
        {
          "output_type": "stream",
          "text": [
            "Requirement already satisfied: twint in /usr/local/lib/python3.6/dist-packages (2.1.7)\n",
            "Requirement already satisfied: beautifulsoup4 in /usr/local/lib/python3.6/dist-packages (from twint) (4.6.3)\n",
            "Requirement already satisfied: aiohttp-socks in /usr/local/lib/python3.6/dist-packages (from twint) (0.2.2)\n",
            "Requirement already satisfied: pysocks in /usr/local/lib/python3.6/dist-packages (from twint) (1.7.1)\n",
            "Requirement already satisfied: cchardet in /usr/local/lib/python3.6/dist-packages (from twint) (2.1.5)\n",
            "Requirement already satisfied: geopy in /usr/local/lib/python3.6/dist-packages (from twint) (1.17.0)\n",
            "Requirement already satisfied: schedule in /usr/local/lib/python3.6/dist-packages (from twint) (0.6.0)\n",
            "Requirement already satisfied: aiohttp in /usr/local/lib/python3.6/dist-packages (from twint) (3.6.2)\n",
            "Requirement already satisfied: fake-useragent in /usr/local/lib/python3.6/dist-packages (from twint) (0.1.11)\n",
            "Requirement already satisfied: aiodns in /usr/local/lib/python3.6/dist-packages (from twint) (2.0.0)\n",
            "Requirement already satisfied: pandas in /usr/local/lib/python3.6/dist-packages (from twint) (0.25.3)\n",
            "Requirement already satisfied: elasticsearch in /usr/local/lib/python3.6/dist-packages (from twint) (7.1.0)\n",
            "Requirement already satisfied: geographiclib<2,>=1.49 in /usr/local/lib/python3.6/dist-packages (from geopy->twint) (1.50)\n",
            "Requirement already satisfied: async-timeout<4.0,>=3.0 in /usr/local/lib/python3.6/dist-packages (from aiohttp->twint) (3.0.1)\n",
            "Requirement already satisfied: typing-extensions>=3.6.5; python_version < \"3.7\" in /usr/local/lib/python3.6/dist-packages (from aiohttp->twint) (3.6.6)\n",
            "Requirement already satisfied: yarl<2.0,>=1.0 in /usr/local/lib/python3.6/dist-packages (from aiohttp->twint) (1.3.0)\n",
            "Requirement already satisfied: multidict<5.0,>=4.5 in /usr/local/lib/python3.6/dist-packages (from aiohttp->twint) (4.6.1)\n",
            "Requirement already satisfied: idna-ssl>=1.0; python_version < \"3.7\" in /usr/local/lib/python3.6/dist-packages (from aiohttp->twint) (1.1.0)\n",
            "Requirement already satisfied: attrs>=17.3.0 in /usr/local/lib/python3.6/dist-packages (from aiohttp->twint) (19.3.0)\n",
            "Requirement already satisfied: chardet<4.0,>=2.0 in /usr/local/lib/python3.6/dist-packages (from aiohttp->twint) (3.0.4)\n",
            "Requirement already satisfied: typing; python_version < \"3.7\" in /usr/local/lib/python3.6/dist-packages (from aiodns->twint) (3.6.6)\n",
            "Requirement already satisfied: pycares>=3.0.0 in /usr/local/lib/python3.6/dist-packages (from aiodns->twint) (3.0.0)\n",
            "Requirement already satisfied: numpy>=1.13.3 in /usr/local/lib/python3.6/dist-packages (from pandas->twint) (1.17.4)\n",
            "Requirement already satisfied: python-dateutil>=2.6.1 in /usr/local/lib/python3.6/dist-packages (from pandas->twint) (2.6.1)\n",
            "Requirement already satisfied: pytz>=2017.2 in /usr/local/lib/python3.6/dist-packages (from pandas->twint) (2018.9)\n",
            "Requirement already satisfied: urllib3>=1.21.1 in /usr/local/lib/python3.6/dist-packages (from elasticsearch->twint) (1.24.3)\n",
            "Requirement already satisfied: idna>=2.0 in /usr/local/lib/python3.6/dist-packages (from yarl<2.0,>=1.0->aiohttp->twint) (2.8)\n",
            "Requirement already satisfied: cffi>=1.5.0 in /usr/local/lib/python3.6/dist-packages (from pycares>=3.0.0->aiodns->twint) (1.13.2)\n",
            "Requirement already satisfied: six>=1.5 in /usr/local/lib/python3.6/dist-packages (from python-dateutil>=2.6.1->pandas->twint) (1.12.0)\n",
            "Requirement already satisfied: pycparser in /usr/local/lib/python3.6/dist-packages (from cffi>=1.5.0->pycares>=3.0.0->aiodns->twint) (2.19)\n"
          ],
          "name": "stdout"
        }
      ]
    },
    {
      "cell_type": "code",
      "metadata": {
        "id": "BmZTUoq0LIlq",
        "colab_type": "code",
        "outputId": "be4611f0-e3a9-4a2e-a788-63402d65cdfd",
        "colab": {
          "base_uri": "https://localhost:8080/",
          "height": 123
        }
      },
      "source": [
        "pip install googletrans"
      ],
      "execution_count": 3,
      "outputs": [
        {
          "output_type": "stream",
          "text": [
            "Requirement already satisfied: googletrans in /usr/local/lib/python3.6/dist-packages (2.4.0)\n",
            "Requirement already satisfied: requests in /usr/local/lib/python3.6/dist-packages (from googletrans) (2.21.0)\n",
            "Requirement already satisfied: chardet<3.1.0,>=3.0.2 in /usr/local/lib/python3.6/dist-packages (from requests->googletrans) (3.0.4)\n",
            "Requirement already satisfied: urllib3<1.25,>=1.21.1 in /usr/local/lib/python3.6/dist-packages (from requests->googletrans) (1.24.3)\n",
            "Requirement already satisfied: idna<2.9,>=2.5 in /usr/local/lib/python3.6/dist-packages (from requests->googletrans) (2.8)\n",
            "Requirement already satisfied: certifi>=2017.4.17 in /usr/local/lib/python3.6/dist-packages (from requests->googletrans) (2019.9.11)\n"
          ],
          "name": "stdout"
        }
      ]
    },
    {
      "cell_type": "code",
      "metadata": {
        "id": "PVdHfve7-_W3",
        "colab_type": "code",
        "colab": {}
      },
      "source": [
        "#define some function\n",
        "def percent(part, total):\n",
        "    return 100*float(part)/float(total)"
      ],
      "execution_count": 0,
      "outputs": []
    },
    {
      "cell_type": "code",
      "metadata": {
        "id": "YbGqLWcD_FTK",
        "colab_type": "code",
        "outputId": "82fa6e94-80d5-454c-fb6a-d2e1ef3bd687",
        "colab": {
          "base_uri": "https://localhost:8080/",
          "height": 105
        }
      },
      "source": [
        "#input keyword and desired number of tweets , prepare csv\n",
        "keyword = \"indonesia\" #str(input(\"Please input keyword: \"))\n",
        "number = \"20\" #int(input(\"Number of tweets: \"))\n",
        "date_end  = \"2019-11-23\"#str(input(\"end date (yyyy-mm-dd ):\"))\n",
        "date_start  = \"2019-11-20\"#str(input(\"start date (yyyy-mm-dd ):\"))\n",
        "\n",
        "c = twint.Config()\n",
        "c.Until = date_end\n",
        "c.Since = date_start\n",
        "c.Search = keyword\n",
        "c.Lang = \"id\"\n",
        "c.Pandas_clean = True\n",
        "c.Debug = True\n",
        "c.Limit = number\n",
        "c.Pandas = True\n",
        "c.Count = True\n",
        "c.Hide_output = True\n",
        "c.Filter_retweets = True\n",
        "\n",
        "twint.run.Search(c)\n",
        "Tweets_df = twint.storage.panda.Tweets_df"
      ],
      "execution_count": 7,
      "outputs": [
        {
          "output_type": "stream",
          "text": [
            "Please input keyword: malaysia\n",
            "Number of tweets: 20\n",
            "end date (yyyy-mm-dd ):2019-11-23\n",
            "start date (yyyy-mm-dd ):2019-11-20\n",
            "[+] Finished: Successfully collected 20 Tweets.\n"
          ],
          "name": "stdout"
        }
      ]
    },
    {
      "cell_type": "code",
      "metadata": {
        "id": "GFTNyCu3fPLk",
        "colab_type": "code",
        "colab": {}
      },
      "source": [
        "import emoji\n",
        "\n",
        "def clean_emoji(text):\n",
        "    allchars = [str for str in text]\n",
        "    emoji_list = [c for c in allchars if c in emoji.UNICODE_EMOJI]\n",
        "    clean_text = ' '.join([str for str in text.split() if not any(i in str for i in emoji_list)])\n",
        "    return clean_text"
      ],
      "execution_count": 0,
      "outputs": []
    },
    {
      "cell_type": "code",
      "metadata": {
        "id": "AJ4bQrp2_pr6",
        "colab_type": "code",
        "colab": {}
      },
      "source": [
        "def sentimentlysis(string):\n",
        "  string = clean_emoji(string)\n",
        "  string = Translator().translate(str(string), dest='en')\n",
        "\n",
        "  analysis = textblob.TextBlob(string.text)\n",
        "\n",
        "  sentiment = \"\"\n",
        "  if(analysis.sentiment.polarity==0):\n",
        "        sentiment = \"neutral\"\n",
        "  elif(analysis.sentiment.polarity<0.0000):\n",
        "        sentiment = \"negative\"\n",
        "  elif(analysis.sentiment.polarity>0.0000):\n",
        "        sentiment = \"positive\"\n",
        "  return sentiment\n"
      ],
      "execution_count": 0,
      "outputs": []
    },
    {
      "cell_type": "code",
      "metadata": {
        "id": "xnFG6OQJMgzf",
        "colab_type": "code",
        "colab": {
          "base_uri": "https://localhost:8080/",
          "height": 314
        },
        "outputId": "e709acae-c0a1-4ab8-c9b8-d6a29059f2de"
      },
      "source": [
        "sentiment_analysis = [sentimentlysis(x) for x in Tweets_df['tweet']]\n",
        "\n",
        "perPositive = format(percent(sentiment_analysis.count(\"positive\"), int(Tweets_df.shape[0])),'02f')\n",
        "perNegative = format(percent(sentiment_analysis.count(\"negative\"), int(Tweets_df.shape[0])),'02f')\n",
        "perNeutral = format(percent(sentiment_analysis.count(\"neutral\"), int(Tweets_df.shape[0])),'02f')\n",
        "\n",
        "sizes = [perPositive, perNegative, perNeutral]\n",
        "labels = ['Positive [' + str(perPositive) + '%]','Negative [' + str(perNegative) + '%]','Neutral [' + str(perNeutral) + '%]']\n",
        "p, t = plt.pie(sizes, startangle=90)\n",
        "plt.title(\"Recent Sentiment Chart \\nfor word: \"+keyword+\" found in \"+str(int(Tweets_df.shape[0]))+ \" tweets\\n\")\n",
        "plt.axis(\"equal\")\n",
        "plt.legend(p, labels,loc=\"best\")\n",
        "plt.tight_layout()\n",
        "plt.show"
      ],
      "execution_count": 51,
      "outputs": [
        {
          "output_type": "execute_result",
          "data": {
            "text/plain": [
              "<function matplotlib.pyplot.show>"
            ]
          },
          "metadata": {
            "tags": []
          },
          "execution_count": 51
        },
        {
          "output_type": "display_data",
          "data": {
            "image/png": "[encoded data removed]",
            "text/plain": [
              "<Figure size 432x288 with 1 Axes>"
            ]
          },
          "metadata": {
            "tags": []
          }
        }
      ]
    },
    {
      "cell_type": "code",
      "metadata": {
        "id": "IFYY73PJXsUt",
        "colab_type": "code",
        "colab": {}
      },
      "source": [
        ""
      ],
      "execution_count": 0,
      "outputs": []
    }
  ]
}